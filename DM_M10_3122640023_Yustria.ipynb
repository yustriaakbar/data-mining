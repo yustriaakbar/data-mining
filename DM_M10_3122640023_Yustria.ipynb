{
 "cells": [
  {
   "cell_type": "code",
   "execution_count": 1,
   "id": "5a014f20",
   "metadata": {},
   "outputs": [
    {
     "data": {
      "text/html": [
       "<div>\n",
       "<style scoped>\n",
       "    .dataframe tbody tr th:only-of-type {\n",
       "        vertical-align: middle;\n",
       "    }\n",
       "\n",
       "    .dataframe tbody tr th {\n",
       "        vertical-align: top;\n",
       "    }\n",
       "\n",
       "    .dataframe thead th {\n",
       "        text-align: right;\n",
       "    }\n",
       "</style>\n",
       "<table border=\"1\" class=\"dataframe\">\n",
       "  <thead>\n",
       "    <tr style=\"text-align: right;\">\n",
       "      <th></th>\n",
       "      <th>InvoiceNo</th>\n",
       "      <th>StockCode</th>\n",
       "      <th>Qty</th>\n",
       "      <th>InvoiceDate</th>\n",
       "      <th>CustomerID</th>\n",
       "      <th>Country</th>\n",
       "    </tr>\n",
       "  </thead>\n",
       "  <tbody>\n",
       "    <tr>\n",
       "      <th>0</th>\n",
       "      <td>537626</td>\n",
       "      <td>22725</td>\n",
       "      <td>830</td>\n",
       "      <td>12/7/2010 14:57</td>\n",
       "      <td>12347</td>\n",
       "      <td>Iceland</td>\n",
       "    </tr>\n",
       "    <tr>\n",
       "      <th>1</th>\n",
       "      <td>537626</td>\n",
       "      <td>22729</td>\n",
       "      <td>948</td>\n",
       "      <td>12/7/2010 14:57</td>\n",
       "      <td>12347</td>\n",
       "      <td>Iceland</td>\n",
       "    </tr>\n",
       "    <tr>\n",
       "      <th>2</th>\n",
       "      <td>537626</td>\n",
       "      <td>22195</td>\n",
       "      <td>695</td>\n",
       "      <td>12/7/2010 14:57</td>\n",
       "      <td>12347</td>\n",
       "      <td>Iceland</td>\n",
       "    </tr>\n",
       "    <tr>\n",
       "      <th>3</th>\n",
       "      <td>542237</td>\n",
       "      <td>22725</td>\n",
       "      <td>636</td>\n",
       "      <td>1/26/2011 14:30</td>\n",
       "      <td>12347</td>\n",
       "      <td>Iceland</td>\n",
       "    </tr>\n",
       "    <tr>\n",
       "      <th>4</th>\n",
       "      <td>542237</td>\n",
       "      <td>22729</td>\n",
       "      <td>536</td>\n",
       "      <td>1/26/2011 14:30</td>\n",
       "      <td>12347</td>\n",
       "      <td>Iceland</td>\n",
       "    </tr>\n",
       "  </tbody>\n",
       "</table>\n",
       "</div>"
      ],
      "text/plain": [
       "   InvoiceNo  StockCode  Qty      InvoiceDate  CustomerID  Country\n",
       "0     537626      22725  830  12/7/2010 14:57       12347  Iceland\n",
       "1     537626      22729  948  12/7/2010 14:57       12347  Iceland\n",
       "2     537626      22195  695  12/7/2010 14:57       12347  Iceland\n",
       "3     542237      22725  636  1/26/2011 14:30       12347  Iceland\n",
       "4     542237      22729  536  1/26/2011 14:30       12347  Iceland"
      ]
     },
     "execution_count": 1,
     "metadata": {},
     "output_type": "execute_result"
    }
   ],
   "source": [
    "import pandas as pd\n",
    "\n",
    "# Load dataset\n",
    "dataset = pd.read_csv('transaction.csv')\n",
    "# Tampilkan dataset\n",
    "dataset.head()"
   ]
  },
  {
   "cell_type": "code",
   "execution_count": 2,
   "id": "340081a5",
   "metadata": {},
   "outputs": [
    {
     "name": "stdout",
     "output_type": "stream",
     "text": [
      "\n",
      "Jumlah kemunculan tiap Country:\n",
      "Germany                 2269\n",
      "France                  2109\n",
      "EIRE                    1620\n",
      "Netherlands              634\n",
      "Spain                    539\n",
      "Belgium                  486\n",
      "Switzerland              434\n",
      "Portugal                 367\n",
      "Australia                356\n",
      "Norway                   239\n",
      "Italy                    190\n",
      "Channel Islands          184\n",
      "Finland                  152\n",
      "Cyprus                   113\n",
      "Sweden                   109\n",
      "Denmark                   98\n",
      "Japan                     92\n",
      "Austria                   88\n",
      "Poland                    80\n",
      "Israel                    61\n",
      "USA                       47\n",
      "Singapore                 45\n",
      "Unspecified               44\n",
      "Canada                    36\n",
      "Iceland                   35\n",
      "Greece                    33\n",
      "United Arab Emirates      23\n",
      "Malta                     15\n",
      "RSA                       14\n",
      "Brazil                     8\n",
      "Lithuania                  8\n",
      "Lebanon                    5\n",
      "European Community         5\n",
      "Czech Republic             4\n",
      "Bahrain                    3\n",
      "Saudi Arabia               1\n",
      "Name: Country, dtype: int64\n"
     ]
    }
   ],
   "source": [
    "# Hitung kemunculan tiap Country pada dataset\n",
    "country = dataset['Country'].value_counts()\n",
    "# Menampilkan hasil\n",
    "print(\"\\nJumlah kemunculan tiap Country:\")\n",
    "print(country)"
   ]
  },
  {
   "cell_type": "code",
   "execution_count": 3,
   "id": "3bc04441",
   "metadata": {},
   "outputs": [
    {
     "name": "stdout",
     "output_type": "stream",
     "text": [
      "\n",
      "Banyaknya transaksi pada tiap negara:\n",
      "Country\n",
      "Australia               4026.295455\n",
      "Austria                 3420.250000\n",
      "Bahrain                 1470.000000\n",
      "Belgium                 3032.714286\n",
      "Brazil                  4389.000000\n",
      "Canada                  6449.666667\n",
      "Channel Islands         4569.714286\n",
      "Cyprus                  3550.875000\n",
      "Czech Republic          1239.500000\n",
      "Denmark                 3018.888889\n",
      "EIRE                    3788.866071\n",
      "European Community       921.666667\n",
      "Finland                 3118.000000\n",
      "France                  3197.549419\n",
      "Germany                 3119.766578\n",
      "Greece                  3473.000000\n",
      "Iceland                 3267.666667\n",
      "Israel                  7046.500000\n",
      "Italy                   3186.096774\n",
      "Japan                   3089.857143\n",
      "Lebanon                 2836.000000\n",
      "Lithuania               2013.000000\n",
      "Malta                   3758.500000\n",
      "Netherlands             4402.934211\n",
      "Norway                  4679.107143\n",
      "Poland                  2528.529412\n",
      "Portugal                4307.534884\n",
      "RSA                     6576.000000\n",
      "Saudi Arabia             592.000000\n",
      "Singapore               6288.750000\n",
      "Spain                   4035.277778\n",
      "Sweden                  2164.615385\n",
      "Switzerland             5664.439024\n",
      "USA                     4994.600000\n",
      "United Arab Emirates    6197.000000\n",
      "Unspecified             2674.625000\n",
      "Name: Qty, dtype: float64\n"
     ]
    }
   ],
   "source": [
    "# Hitung rata-rata jumlah barang (Qty) per transaksi pada tiap negara\n",
    "transaksi = dataset.groupby(['Country', 'InvoiceNo'])['Qty'].sum().groupby('Country').mean()\n",
    "# Menampilkan hasil\n",
    "print(\"\\nBanyaknya transaksi pada tiap negara:\")\n",
    "print(transaksi)"
   ]
  },
  {
   "cell_type": "code",
   "execution_count": 4,
   "id": "99a3c1a2",
   "metadata": {},
   "outputs": [],
   "source": [
    "from sklearn.cluster import KMeans\n",
    "\n",
    "# Inisialisasi variabel\n",
    "cluster_i = []\n",
    "cluster_val = []\n",
    "\n",
    "# Lakukan clustering dengan K-Means sebanyak 10 kali\n",
    "for i in range(1, 11):\n",
    "    kmeans = KMeans(n_clusters=3, random_state=0)\n",
    "    kmeans.fit(transaksi.values.reshape(-1, 1))\n",
    "    cluster_i.append(i)\n",
    "    cluster_val.append(kmeans.inertia_)"
   ]
  },
  {
   "cell_type": "code",
   "execution_count": 5,
   "id": "f9bb7290",
   "metadata": {},
   "outputs": [],
   "source": [
    "# Ambil cluster_i yang mempunyai cluster_val terkecil\n",
    "best_cluster = cluster_i[cluster_val.index(min(cluster_val))]"
   ]
  },
  {
   "cell_type": "code",
   "execution_count": 6,
   "id": "4ef9a66e",
   "metadata": {},
   "outputs": [
    {
     "name": "stdout",
     "output_type": "stream",
     "text": [
      "[[6173.85081301]\n",
      " [3542.21952146]\n",
      " [1400.13034188]]\n"
     ]
    }
   ],
   "source": [
    "# Lakukan clustering dengan jumlah cluster terbaik\n",
    "kmeans = KMeans(n_clusters=3, random_state=0)\n",
    "kmeans.fit(transaksi.values.reshape(-1, 1))\n",
    "\n",
    "# Posisi centroid dari setiap cluster\n",
    "centroids = kmeans.cluster_centers_\n",
    "print(centroids)"
   ]
  },
  {
   "cell_type": "code",
   "execution_count": 7,
   "id": "0e4a8aa9",
   "metadata": {},
   "outputs": [
    {
     "name": "stdout",
     "output_type": "stream",
     "text": [
      "[array([1400.13034188]), array([3542.21952146]), array([6173.85081301])]\n"
     ]
    }
   ],
   "source": [
    "# Urutkan posisi centroid secara ascending\n",
    "sorted_centroids = sorted(centroids)\n",
    "print(sorted_centroids)"
   ]
  },
  {
   "cell_type": "code",
   "execution_count": 8,
   "id": "ec3de908",
   "metadata": {},
   "outputs": [
    {
     "name": "stdout",
     "output_type": "stream",
     "text": [
      "Index(['Bahrain', 'Czech Republic', 'European Community', 'Lithuania',\n",
      "       'Saudi Arabia', 'Sweden'],\n",
      "      dtype='object', name='Country')\n",
      "Index(['Australia', 'Austria', 'Belgium', 'Brazil', 'Channel Islands',\n",
      "       'Cyprus', 'Denmark', 'EIRE', 'Finland', 'France', 'Germany', 'Greece',\n",
      "       'Iceland', 'Italy', 'Japan', 'Lebanon', 'Malta', 'Netherlands',\n",
      "       'Norway', 'Poland', 'Portugal', 'Spain', 'Unspecified'],\n",
      "      dtype='object', name='Country')\n",
      "Index(['Canada', 'Israel', 'RSA', 'Singapore', 'Switzerland', 'USA',\n",
      "       'United Arab Emirates'],\n",
      "      dtype='object', name='Country')\n"
     ]
    }
   ],
   "source": [
    "# Tentukan cluster transaksi rendah, sedang, dan tinggi\n",
    "low_cluster = list(centroids).index(sorted_centroids[0])\n",
    "medium_cluster = list(centroids).index(sorted_centroids[1])\n",
    "high_cluster = list(centroids).index(sorted_centroids[2])\n",
    "\n",
    "# Tampilkan negara mana saja yang transaksinya rendah, sedang, dan tinggi\n",
    "low_transaksi_countries = transaksi.index[kmeans.labels_ == low_cluster]\n",
    "medium_transaksi_countries = transaksi.index[kmeans.labels_ == medium_cluster]\n",
    "high_transaksi_countries = transaksi.index[kmeans.labels_ == high_cluster]\n",
    "\n",
    "# Menampilkan hasil\n",
    "print(low_transaksi_countries)\n",
    "print(medium_transaksi_countries)\n",
    "print(high_transaksi_countries)"
   ]
  },
  {
   "cell_type": "code",
   "execution_count": 9,
   "id": "46ed7b4b",
   "metadata": {},
   "outputs": [
    {
     "data": {
      "image/png": "[encoded data removed]",
      "text/plain": [
       "<Figure size 1000x600 with 2 Axes>"
      ]
     },
     "metadata": {},
     "output_type": "display_data"
    }
   ],
   "source": [
    "import matplotlib.pyplot as plt\n",
    "\n",
    "# Visualisasi hasil cluster\n",
    "plt.figure(figsize=(10, 6))\n",
    "plt.scatter(range(len(transaksi)), transaksi.values, c=kmeans.labels_, cmap='viridis')\n",
    "plt.xlabel('Urutan Country')\n",
    "plt.ylabel('Transaksi (Qty)')\n",
    "plt.title('Hasil Clustering Transaksi')\n",
    "plt.colorbar(label='Cluster')\n",
    "plt.show()"
   ]
  },
  {
   "cell_type": "code",
   "execution_count": null,
   "id": "05726792",
   "metadata": {},
   "outputs": [],
   "source": []
  }
 ],
 "metadata": {
  "kernelspec": {
   "display_name": "Python 3 (ipykernel)",
   "language": "python",
   "name": "python3"
  },
  "language_info": {
   "codemirror_mode": {
    "name": "ipython",
    "version": 3
   },
   "file_extension": ".py",
   "mimetype": "text/x-python",
   "name": "python",
   "nbconvert_exporter": "python",
   "pygments_lexer": "ipython3",
   "version": "3.11.1"
  }
 },
 "nbformat": 4,
 "nbformat_minor": 5
}
