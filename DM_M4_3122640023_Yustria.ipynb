{
 "cells": [
  {
   "cell_type": "code",
   "execution_count": 1,
   "id": "6fc6b077",
   "metadata": {},
   "outputs": [
    {
     "name": "stdout",
     "output_type": "stream",
     "text": [
      "Dataset Titanic (train):\n",
      "   PassengerId  Survived  Pclass  \\\n",
      "0            1         0       3   \n",
      "1            2         1       1   \n",
      "2            3         1       3   \n",
      "3            4         1       1   \n",
      "4            5         0       3   \n",
      "\n",
      "                                                Name     Sex   Age  SibSp  \\\n",
      "0                            Braund, Mr. Owen Harris    male  22.0      1   \n",
      "1  Cumings, Mrs. John Bradley (Florence Briggs Th...  female  38.0      1   \n",
      "2                             Heikkinen, Miss. Laina  female  26.0      0   \n",
      "3       Futrelle, Mrs. Jacques Heath (Lily May Peel)  female  35.0      1   \n",
      "4                           Allen, Mr. William Henry    male  35.0      0   \n",
      "\n",
      "   Parch            Ticket     Fare Cabin Embarked  \n",
      "0      0         A/5 21171   7.2500   NaN        S  \n",
      "1      0          PC 17599  71.2833   C85        C  \n",
      "2      0  STON/O2. 3101282   7.9250   NaN        S  \n",
      "3      0            113803  53.1000  C123        S  \n",
      "4      0            373450   8.0500   NaN        S  \n"
     ]
    }
   ],
   "source": [
    "import pandas as pd\n",
    "from sklearn.preprocessing import MinMaxScaler\n",
    "from sklearn.neighbors import KNeighborsClassifier\n",
    "from sklearn.metrics import accuracy_score\n",
    "\n",
    "# Langkah 1: Tampilkan dataset titanic.csv\n",
    "titanic_train = pd.read_csv(\"titanic.csv\")\n",
    "print(\"Dataset Titanic (train):\")\n",
    "print(titanic_train.head())"
   ]
  },
  {
   "cell_type": "code",
   "execution_count": 2,
   "id": "995ec20d",
   "metadata": {},
   "outputs": [
    {
     "name": "stdout",
     "output_type": "stream",
     "text": [
      "\n",
      "Dataset Titanic Test:\n",
      "   PassengerId  Pclass                                          Name     Sex  \\\n",
      "0          892       3                              Kelly, Mr. James    male   \n",
      "1          893       3              Wilkes, Mrs. James (Ellen Needs)  female   \n",
      "2          894       2                     Myles, Mr. Thomas Francis    male   \n",
      "3          895       3                              Wirz, Mr. Albert    male   \n",
      "4          896       3  Hirvonen, Mrs. Alexander (Helga E Lindqvist)  female   \n",
      "\n",
      "    Age  SibSp  Parch   Ticket     Fare Cabin Embarked  \n",
      "0  34.5      0      0   330911   7.8292   NaN        Q  \n",
      "1  47.0      1      0   363272   7.0000   NaN        S  \n",
      "2  62.0      0      0   240276   9.6875   NaN        Q  \n",
      "3  27.0      0      0   315154   8.6625   NaN        S  \n",
      "4  22.0      1      1  3101298  12.2875   NaN        S  \n"
     ]
    }
   ],
   "source": [
    "# Langkah 2: Tampilkan dataset titanic_test.csv\n",
    "titanic_test = pd.read_csv(\"titanic_test.csv\")\n",
    "print(\"\\nDataset Titanic Test:\")\n",
    "print(titanic_test.head())"
   ]
  },
  {
   "cell_type": "code",
   "execution_count": 3,
   "id": "51adc8f5",
   "metadata": {},
   "outputs": [],
   "source": [
    "# Langkah 3: Ambil train dataset kolom Age, Fare dan hilangkan missing values\n",
    "pos_missing_train = titanic_train[['Age', 'Fare']].isnull().any(axis=1)\n",
    "train_data = titanic_train[['Age', 'Fare']].dropna()"
   ]
  },
  {
   "cell_type": "code",
   "execution_count": 4,
   "id": "9e44ca73",
   "metadata": {},
   "outputs": [],
   "source": [
    "# Langkah 4: Ambil test dataset kolom Age, Fare dan hilangkan missing values\n",
    "pos_missing_test = titanic_test[['Age', 'Fare']].isnull().any(axis=1)\n",
    "test_data = titanic_test[['Age', 'Fare']].dropna()"
   ]
  },
  {
   "cell_type": "code",
   "execution_count": 5,
   "id": "092065b3",
   "metadata": {},
   "outputs": [],
   "source": [
    "# Langkah 5: Ambil train dataset kolom kelas (Survived), yang bukan pos_missing_train\n",
    "train_labels = titanic_train.loc[~pos_missing_train, 'Survived']"
   ]
  },
  {
   "cell_type": "code",
   "execution_count": 6,
   "id": "fbeda76d",
   "metadata": {},
   "outputs": [],
   "source": [
    "# Langkah 6: Ambil test_label: ambil test dataset titanic_test.csv, yang bukan pos_missing_test\n",
    "test_labels = titanic_test.loc[~pos_missing_test, 'PassengerId']"
   ]
  },
  {
   "cell_type": "code",
   "execution_count": 7,
   "id": "baf3b65d",
   "metadata": {},
   "outputs": [],
   "source": [
    "# Langkah 7: Lakukan normalisasi pada train data dengan Min-Max 0-1\n",
    "scaler = MinMaxScaler()\n",
    "train_data_normalized = scaler.fit_transform(train_data)\n",
    "min_max_values_train = {\n",
    "    'Age': (scaler.data_min_[0], scaler.data_max_[0]),\n",
    "    'Fare': (scaler.data_min_[1], scaler.data_max_[1])\n",
    "}"
   ]
  },
  {
   "cell_type": "code",
   "execution_count": 8,
   "id": "3c359e27",
   "metadata": {},
   "outputs": [],
   "source": [
    "# Langkah 8: Lakukan normalisasi pada test data dengan Min-Max 0-1\n",
    "test_data_normalized = scaler.transform(test_data)"
   ]
  },
  {
   "cell_type": "code",
   "execution_count": 9,
   "id": "aee2731d",
   "metadata": {},
   "outputs": [],
   "source": [
    "# Langkah 9: Klasifikasi test data terhadap train data dengan k-NN (k=1..10)\n",
    "error_ratios = {}\n",
    "for k in range(1, 11):\n",
    "    knn_classifier = KNeighborsClassifier(n_neighbors=k)\n",
    "    knn_classifier.fit(train_data_normalized, train_labels)\n",
    "    predictions = knn_classifier.predict(test_data_normalized)\n",
    "    accuracy = accuracy_score(test_labels, predictions)\n",
    "    error_ratio = 1 - accuracy\n",
    "    error_ratios[k] = error_ratio"
   ]
  },
  {
   "cell_type": "code",
   "execution_count": 10,
   "id": "6f3cb02f",
   "metadata": {},
   "outputs": [
    {
     "name": "stdout",
     "output_type": "stream",
     "text": [
      "\n",
      "Error Ratios:\n",
      "k = 1: 1.0000\n",
      "k = 2: 1.0000\n",
      "k = 3: 1.0000\n",
      "k = 4: 1.0000\n",
      "k = 5: 1.0000\n",
      "k = 6: 1.0000\n",
      "k = 7: 1.0000\n",
      "k = 8: 1.0000\n",
      "k = 9: 1.0000\n",
      "k = 10: 1.0000\n"
     ]
    }
   ],
   "source": [
    "# Langkah 10: Bandingkan hasil klasifikasi dengan test_label\n",
    "print(\"\\nError Ratios:\")\n",
    "for k, error_ratio in error_ratios.items():\n",
    "    print(f\"k = {k}: {error_ratio:.4f}\")"
   ]
  },
  {
   "cell_type": "code",
   "execution_count": null,
   "id": "71bc0745",
   "metadata": {},
   "outputs": [],
   "source": []
  }
 ],
 "metadata": {
  "kernelspec": {
   "display_name": "Python 3 (ipykernel)",
   "language": "python",
   "name": "python3"
  },
  "language_info": {
   "codemirror_mode": {
    "name": "ipython",
    "version": 3
   },
   "file_extension": ".py",
   "mimetype": "text/x-python",
   "name": "python",
   "nbconvert_exporter": "python",
   "pygments_lexer": "ipython3",
   "version": "3.11.1"
  }
 },
 "nbformat": 4,
 "nbformat_minor": 5
}
