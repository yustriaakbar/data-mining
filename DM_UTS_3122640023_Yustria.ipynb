{
 "cells": [
  {
   "cell_type": "code",
   "execution_count": 63,
   "id": "f02b58dc",
   "metadata": {},
   "outputs": [
    {
     "name": "stdout",
     "output_type": "stream",
     "text": [
      "Total errors: 53\n",
      "Error ratio: 12.679425837320574 %\n"
     ]
    }
   ],
   "source": [
    "import pandas as pd\n",
    "from sklearn.preprocessing import MinMaxScaler\n",
    "from sklearn.neighbors import KNeighborsClassifier\n",
    "from sklearn.neighbors import KNeighborsRegressor\n",
    "from sklearn.metrics import accuracy_score\n",
    "\n",
    "# Step 1: Load datasets titanic.csv\n",
    "dataset = pd.read_csv('titanic.csv')\n",
    "dataset.head()\n",
    "\n",
    "# Mengubah nilai 'Sex' menjadi numerik\n",
    "dataset['Sex'] = dataset['Sex'].map({'male': 0, 'female': 1})\n",
    "\n",
    "# Step 2: Extract relevant features from the dataset\n",
    "data = dataset[['Sex', 'Age', 'Pclass', 'Fare', 'Survived']]\n",
    "\n",
    "# Step 3 and 4: Extract training data and labels with non-null Age values\n",
    "train_data = data[data['Age'].notnull()][['Sex', 'Pclass', 'Fare', 'Survived']]\n",
    "train_label = data[data['Age'].notnull()]['Age']\n",
    "\n",
    "# Step 5: Extract test data with null Age values\n",
    "test_data = data[data['Age'].isnull()][['Sex', 'Pclass', 'Fare', 'Survived']]\n",
    "\n",
    "# Step 6 and 7: Normalize train_data and test_data using Min-Max scaling\n",
    "scaler = MinMaxScaler()\n",
    "train_data_scaled = scaler.fit_transform(train_data)\n",
    "test_data_scaled = scaler.transform(test_data)\n",
    "\n",
    "# Step 8: Perform 3-NN classification\n",
    "knn_age = KNeighborsRegressor(n_neighbors=3)\n",
    "knn_age.fit(train_data_scaled, train_label)\n",
    "age_result = knn_age.predict(test_data_scaled)\n",
    "\n",
    "# Step 9: Fill missing Age values in the dataset using class_result\n",
    "dataset.loc[dataset['Age'].isnull(), 'Age'] = age_result\n",
    "\n",
    "# Step 10: Load datasets titanic_test.csv\n",
    "test_dataset = pd.read_csv('titanic_test.csv')\n",
    "# Mengubah nilai 'Sex' menjadi numerik\n",
    "test_dataset['Sex'] = test_dataset['Sex'].map({'male': 0, 'female': 1})\n",
    "\n",
    "# Step 11 and 12: Extract training data and labels from the updated dataset\n",
    "train_data = dataset[['Sex', 'Age', 'Pclass', 'Fare']]\n",
    "train_label = dataset['Survived']\n",
    "\n",
    "# Step 13: Extract test data and remove rows with missing values\n",
    "dropped_rows = test_dataset[['Sex', 'Age', 'Pclass', 'Fare']][test_dataset[['Sex', 'Age', 'Pclass', 'Fare']].isnull().any(axis=1)]\n",
    "# print(\"Dropped rows indices:\", dropped_rows.index.tolist())\n",
    "test_data = test_dataset[['Sex', 'Age', 'Pclass', 'Fare']].dropna()\n",
    "\n",
    "# Step 14: Load datasets titanic_testlabel.csv\n",
    "test_label = pd.read_csv('titanic_testlabel.csv')\n",
    "# Get corresponding test labels for the rows that were not dropped\n",
    "remaining_test_labels = test_label.drop(dropped_rows.index)\n",
    "\n",
    "# Step 15 and 16: Normalize train_data and test_data using Min-Max scaling\n",
    "train_data_scaled = scaler.fit_transform(train_data)\n",
    "test_data_scaled = scaler.transform(test_data)\n",
    "\n",
    "# Step 17: Perform 3-NN classification for the final test data\n",
    "knn_survived = KNeighborsClassifier(n_neighbors=3)\n",
    "knn_survived.fit(train_data_scaled, train_label)\n",
    "class_result_final = knn_survived.predict(test_data_scaled)\n",
    "\n",
    "# Step 18: Calculate errors and error ratio\n",
    "error = len(remaining_test_labels[remaining_test_labels['Survived'] != class_result_final])\n",
    "error_ratio = (error / len(test_label)) * 100\n",
    "\n",
    "# Output error and error ratio\n",
    "print(\"Total errors:\", error)\n",
    "print(\"Error ratio:\", error_ratio, \"%\")\n"
   ]
  },
  {
   "cell_type": "code",
   "execution_count": null,
   "id": "1f1b8f30",
   "metadata": {},
   "outputs": [],
   "source": []
  }
 ],
 "metadata": {
  "kernelspec": {
   "display_name": "Python 3 (ipykernel)",
   "language": "python",
   "name": "python3"
  },
  "language_info": {
   "codemirror_mode": {
    "name": "ipython",
    "version": 3
   },
   "file_extension": ".py",
   "mimetype": "text/x-python",
   "name": "python",
   "nbconvert_exporter": "python",
   "pygments_lexer": "ipython3",
   "version": "3.11.1"
  }
 },
 "nbformat": 4,
 "nbformat_minor": 5
}
