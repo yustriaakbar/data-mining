{
 "cells": [
  {
   "cell_type": "code",
   "execution_count": 15,
   "id": "fc7f4cf1",
   "metadata": {},
   "outputs": [
    {
     "data": {
      "text/html": [
       "<div>\n",
       "<style scoped>\n",
       "    .dataframe tbody tr th:only-of-type {\n",
       "        vertical-align: middle;\n",
       "    }\n",
       "\n",
       "    .dataframe tbody tr th {\n",
       "        vertical-align: top;\n",
       "    }\n",
       "\n",
       "    .dataframe thead th {\n",
       "        text-align: right;\n",
       "    }\n",
       "</style>\n",
       "<table border=\"1\" class=\"dataframe\">\n",
       "  <thead>\n",
       "    <tr style=\"text-align: right;\">\n",
       "      <th></th>\n",
       "      <th>InvoiceNo</th>\n",
       "      <th>StockCode</th>\n",
       "      <th>Qty</th>\n",
       "      <th>InvoiceDate</th>\n",
       "      <th>CustomerID</th>\n",
       "      <th>Country</th>\n",
       "    </tr>\n",
       "  </thead>\n",
       "  <tbody>\n",
       "    <tr>\n",
       "      <th>0</th>\n",
       "      <td>537626</td>\n",
       "      <td>22725</td>\n",
       "      <td>830</td>\n",
       "      <td>12/7/2010 14:57</td>\n",
       "      <td>12347</td>\n",
       "      <td>Iceland</td>\n",
       "    </tr>\n",
       "    <tr>\n",
       "      <th>1</th>\n",
       "      <td>537626</td>\n",
       "      <td>22729</td>\n",
       "      <td>948</td>\n",
       "      <td>12/7/2010 14:57</td>\n",
       "      <td>12347</td>\n",
       "      <td>Iceland</td>\n",
       "    </tr>\n",
       "    <tr>\n",
       "      <th>2</th>\n",
       "      <td>537626</td>\n",
       "      <td>22195</td>\n",
       "      <td>695</td>\n",
       "      <td>12/7/2010 14:57</td>\n",
       "      <td>12347</td>\n",
       "      <td>Iceland</td>\n",
       "    </tr>\n",
       "    <tr>\n",
       "      <th>3</th>\n",
       "      <td>542237</td>\n",
       "      <td>22725</td>\n",
       "      <td>636</td>\n",
       "      <td>1/26/2011 14:30</td>\n",
       "      <td>12347</td>\n",
       "      <td>Iceland</td>\n",
       "    </tr>\n",
       "    <tr>\n",
       "      <th>4</th>\n",
       "      <td>542237</td>\n",
       "      <td>22729</td>\n",
       "      <td>536</td>\n",
       "      <td>1/26/2011 14:30</td>\n",
       "      <td>12347</td>\n",
       "      <td>Iceland</td>\n",
       "    </tr>\n",
       "  </tbody>\n",
       "</table>\n",
       "</div>"
      ],
      "text/plain": [
       "   InvoiceNo  StockCode  Qty      InvoiceDate  CustomerID  Country\n",
       "0     537626      22725  830  12/7/2010 14:57       12347  Iceland\n",
       "1     537626      22729  948  12/7/2010 14:57       12347  Iceland\n",
       "2     537626      22195  695  12/7/2010 14:57       12347  Iceland\n",
       "3     542237      22725  636  1/26/2011 14:30       12347  Iceland\n",
       "4     542237      22729  536  1/26/2011 14:30       12347  Iceland"
      ]
     },
     "execution_count": 15,
     "metadata": {},
     "output_type": "execute_result"
    }
   ],
   "source": [
    "import pandas as pd\n",
    "\n",
    "# Membaca dataset\n",
    "dataset = pd.read_csv('transaction.csv')\n",
    "\n",
    "# Tampilkan dataset\n",
    "dataset.head()"
   ]
  },
  {
   "cell_type": "code",
   "execution_count": 26,
   "id": "968f6b03",
   "metadata": {},
   "outputs": [
    {
     "name": "stdout",
     "output_type": "stream",
     "text": [
      "\n",
      "Jumlah transaksi tiap negara:\n",
      "Germany                 2269\n",
      "France                  2109\n",
      "EIRE                    1620\n",
      "Netherlands              634\n",
      "Spain                    539\n",
      "Belgium                  486\n",
      "Switzerland              434\n",
      "Portugal                 367\n",
      "Australia                356\n",
      "Norway                   239\n",
      "Italy                    190\n",
      "Channel Islands          184\n",
      "Finland                  152\n",
      "Cyprus                   113\n",
      "Sweden                   109\n",
      "Denmark                   98\n",
      "Japan                     92\n",
      "Austria                   88\n",
      "Poland                    80\n",
      "Israel                    61\n",
      "USA                       47\n",
      "Singapore                 45\n",
      "Unspecified               44\n",
      "Canada                    36\n",
      "Iceland                   35\n",
      "Greece                    33\n",
      "United Arab Emirates      23\n",
      "Malta                     15\n",
      "RSA                       14\n",
      "Brazil                     8\n",
      "Lithuania                  8\n",
      "Lebanon                    5\n",
      "European Community         5\n",
      "Czech Republic             4\n",
      "Bahrain                    3\n",
      "Saudi Arabia               1\n",
      "Name: Country, dtype: int64\n"
     ]
    }
   ],
   "source": [
    "# Menghitung kemunculan tiap negara\n",
    "country = dataset['Country'].value_counts()\n",
    "\n",
    "# Menampilkan hasil\n",
    "print(\"\\nJumlah transaksi tiap negara:\")\n",
    "print(country)"
   ]
  },
  {
   "cell_type": "code",
   "execution_count": 27,
   "id": "fc5c6ca1",
   "metadata": {},
   "outputs": [
    {
     "name": "stdout",
     "output_type": "stream",
     "text": [
      "\n",
      "Banyaknya transaksi pada tiap negara:\n",
      "Country\n",
      "Australia                44\n",
      "Austria                  12\n",
      "Bahrain                   1\n",
      "Belgium                  84\n",
      "Brazil                    1\n",
      "Canada                    3\n",
      "Channel Islands          21\n",
      "Cyprus                   16\n",
      "Czech Republic            2\n",
      "Denmark                  18\n",
      "EIRE                    224\n",
      "European Community        3\n",
      "Finland                  26\n",
      "France                  344\n",
      "Germany                 377\n",
      "Greece                    5\n",
      "Iceland                   6\n",
      "Israel                    4\n",
      "Italy                    31\n",
      "Japan                    14\n",
      "Lebanon                   1\n",
      "Lithuania                 2\n",
      "Malta                     2\n",
      "Netherlands              76\n",
      "Norway                   28\n",
      "Poland                   17\n",
      "Portugal                 43\n",
      "RSA                       1\n",
      "Saudi Arabia              1\n",
      "Singapore                 4\n",
      "Spain                    72\n",
      "Sweden                   26\n",
      "Switzerland              41\n",
      "USA                       5\n",
      "United Arab Emirates      2\n",
      "Unspecified               8\n",
      "Name: InvoiceNo, dtype: int64\n"
     ]
    }
   ],
   "source": [
    "# Menghitung banyaknya transaksi pada tiap negara\n",
    "transaksi = dataset.groupby('Country')['InvoiceNo'].nunique()\n",
    "\n",
    "# Menampilkan hasil\n",
    "print(\"\\nBanyaknya transaksi pada tiap negara:\")\n",
    "print(transaksi)"
   ]
  },
  {
   "cell_type": "code",
   "execution_count": 29,
   "id": "8a906777",
   "metadata": {},
   "outputs": [],
   "source": [
    "from sklearn.cluster import AgglomerativeClustering\n",
    "\n",
    "# Melakukan clustering dengan Average Linkage\n",
    "k = 3\n",
    "cluster = AgglomerativeClustering(n_clusters=k, affinity='euclidean', linkage='average').fit(transaksi.values.reshape(-1, 1))"
   ]
  },
  {
   "cell_type": "code",
   "execution_count": 35,
   "id": "1957762a",
   "metadata": {},
   "outputs": [
    {
     "name": "stdout",
     "output_type": "stream",
     "text": [
      "[18.78787878787879, 360.5, 224.0]\n"
     ]
    }
   ],
   "source": [
    "import numpy as np\n",
    "\n",
    "# Menghitung posisi centroid dari setiap cluster\n",
    "centroids = []\n",
    "for i in range(k):\n",
    "    cluster_points = np.where(cluster.labels_ == i)[0]\n",
    "    centroid = np.mean(transaksi.iloc[cluster_points])\n",
    "    centroids.append(centroid)\n",
    "\n",
    "print(centroids)"
   ]
  },
  {
   "cell_type": "code",
   "execution_count": 36,
   "id": "b8514f60",
   "metadata": {},
   "outputs": [
    {
     "name": "stdout",
     "output_type": "stream",
     "text": [
      "\n",
      "Posisi centroid setelah diurutkan:\n",
      "[18.78787878787879, 224.0, 360.5]\n"
     ]
    }
   ],
   "source": [
    "# Mengurutkan posisi centroid secara ascending\n",
    "sorted_centroids = sorted(centroids)\n",
    "\n",
    "# Menampilkan posisi centroid yang sudah diurutkan\n",
    "print(\"\\nPosisi centroid setelah diurutkan:\")\n",
    "print(sorted_centroids)"
   ]
  },
  {
   "cell_type": "code",
   "execution_count": 25,
   "id": "03b6c805",
   "metadata": {},
   "outputs": [
    {
     "name": "stdout",
     "output_type": "stream",
     "text": [
      "Index(['Australia', 'Austria', 'Bahrain', 'Belgium', 'Brazil', 'Canada',\n",
      "       'Channel Islands', 'Cyprus', 'Czech Republic', 'Denmark',\n",
      "       'European Community', 'Finland', 'Greece', 'Iceland', 'Israel', 'Italy',\n",
      "       'Japan', 'Lebanon', 'Lithuania', 'Malta', 'Netherlands', 'Norway',\n",
      "       'Poland', 'Portugal', 'RSA', 'Saudi Arabia', 'Singapore', 'Spain',\n",
      "       'Sweden', 'Switzerland', 'USA', 'United Arab Emirates', 'Unspecified'],\n",
      "      dtype='object', name='Country')\n",
      "Index(['EIRE'], dtype='object', name='Country')\n",
      "Index(['France', 'Germany'], dtype='object', name='Country')\n"
     ]
    }
   ],
   "source": [
    "# Menentukan cluster transaksi rendah, sedang, dan tinggi\n",
    "low_cluster = np.where(cluster.labels_ == centroids.index(sorted_centroids[0]))[0]\n",
    "medium_cluster = np.where(cluster.labels_ == centroids.index(sorted_centroids[1]))[0]\n",
    "high_cluster = np.where(cluster.labels_ == centroids.index(sorted_centroids[2]))[0]\n",
    "\n",
    "# Menampilkan negara pada masing-masing cluster\n",
    "negara_rendah = transaksi.index[low_cluster]\n",
    "negara_sedang = transaksi.index[medium_cluster]\n",
    "negara_tinggi = transaksi.index[high_cluster]\n",
    "\n",
    "print(negara_rendah)\n",
    "print(negara_sedang)\n",
    "print(negara_tinggi)"
   ]
  },
  {
   "cell_type": "code",
   "execution_count": 22,
   "id": "fd4e20d9",
   "metadata": {},
   "outputs": [
    {
     "data": {
      "image/png": "[encoded data removed]",
      "text/plain": [
       "<Figure size 1000x600 with 1 Axes>"
      ]
     },
     "metadata": {},
     "output_type": "display_data"
    }
   ],
   "source": [
    "import matplotlib.pyplot as plt\n",
    "\n",
    "# Visualisasi hasil cluster\n",
    "plt.figure(figsize=(10, 6))\n",
    "plt.scatter(range(len(transaksi)), transaksi.values, c=cluster.labels_, cmap='viridis')\n",
    "plt.xlabel('Urutan Negara')\n",
    "plt.ylabel('Banyaknya Transaksi')\n",
    "plt.title('Clustering Transaksi')\n",
    "plt.show()"
   ]
  },
  {
   "cell_type": "code",
   "execution_count": null,
   "id": "3532dac9",
   "metadata": {},
   "outputs": [],
   "source": []
  }
 ],
 "metadata": {
  "kernelspec": {
   "display_name": "Python 3 (ipykernel)",
   "language": "python",
   "name": "python3"
  },
  "language_info": {
   "codemirror_mode": {
    "name": "ipython",
    "version": 3
   },
   "file_extension": ".py",
   "mimetype": "text/x-python",
   "name": "python",
   "nbconvert_exporter": "python",
   "pygments_lexer": "ipython3",
   "version": "3.11.1"
  }
 },
 "nbformat": 4,
 "nbformat_minor": 5
}
